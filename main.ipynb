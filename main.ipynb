{
 "cells": [
  {
   "cell_type": "code",
   "execution_count": 2,
   "metadata": {},
   "outputs": [
    {
     "name": "stdout",
     "output_type": "stream",
     "text": [
      "Files already downloaded and verified\n",
      "Files already downloaded and verified\n"
     ]
    }
   ],
   "source": [
    "import torch\n",
    "import torchvision\n",
    "import torchvision.transforms as transforms\n",
    "\n",
    "transform = transforms.Compose(\n",
    "    [transforms.ToTensor(),\n",
    "     transforms.Normalize((0.5, 0.5, 0.5), (0.5, 0.5, 0.5))])\n",
    "\n",
    "trainset = torchvision.datasets.CIFAR10(root='./data', train=True,\n",
    "                                        download=True, transform=transform)\n",
    "trainloader = torch.utils.data.DataLoader(trainset, batch_size=4,\n",
    "                                          shuffle=True, num_workers=2)\n",
    "\n",
    "testset = torchvision.datasets.CIFAR10(root='./data', train=False,\n",
    "                                       download=True, transform=transform)\n",
    "testloader = torch.utils.data.DataLoader(testset, batch_size=4,\n",
    "                                         shuffle=False, num_workers=2)\n"
   ]
  },
  {
   "cell_type": "code",
   "execution_count": 3,
   "metadata": {},
   "outputs": [
    {
     "name": "stdout",
     "output_type": "stream",
     "text": [
      "Using device: cpu\n",
      "Epoch 1\n",
      "Epoch 2\n"
     ]
    }
   ],
   "source": [
    "import torch.nn as nn\n",
    "import torch.nn.functional as F\n",
    "import torch.optim as optim\n",
    "\n",
    "\n",
    "# Check if CUDA is available\n",
    "device = torch.device(\"cuda:0\" if torch.cuda.is_available() else \"cpu\")\n",
    "print(f\"Using device: {device}\")\n",
    "\n",
    "if not torch.cuda.is_available():\n",
    "    quit()\n",
    "\n",
    "class Net(nn.Module):\n",
    "    def __init__(self):\n",
    "        super(Net, self).__init__()\n",
    "        self.conv1 = nn.Conv2d(3, 32, 3)\n",
    "        self.pool = nn.MaxPool2d(2, 2)\n",
    "        self.conv2 = nn.Conv2d(32, 64, 3)\n",
    "        self.fc1 = nn.Linear(64 * 6 * 6, 512)\n",
    "        self.fc2 = nn.Linear(512, 10)\n",
    "\n",
    "    def forward(self, x):\n",
    "        x = self.pool(F.relu(self.conv1(x)))\n",
    "        x = self.pool(F.relu(self.conv2(x)))\n",
    "        x = x.view(-1, 64 * 6 * 6)\n",
    "        x = F.relu(self.fc1(x))\n",
    "        x = self.fc2(x)\n",
    "        return x\n",
    "\n",
    "net = Net()\n",
    "net.to(device)\n",
    "\n",
    "criterion = nn.CrossEntropyLoss()\n",
    "optimizer = optim.Adam(net.parameters(), lr=0.001)\n",
    "\n",
    "# Training\n",
    "for epoch in range(10):\n",
    "    print(f\"Epoch {epoch + 1}\")\n",
    "    for i, data in enumerate(trainloader, 0):\n",
    "        inputs, labels = data[0].to(device), data[1].to(device)\n",
    "        optimizer.zero_grad()\n",
    "        outputs = net(inputs)\n",
    "        loss = criterion(outputs, labels)\n",
    "        loss.backward()\n",
    "        optimizer.step()\n",
    "\n",
    "# # FGSM attack\n",
    "# def fgsm_attack(image, epsilon, data_grad):\n",
    "#     sign_data_grad = data_grad.sign()\n",
    "#     perturbed_image = image + epsilon * sign_data_grad\n",
    "#     perturbed_image = torch.clamp(perturbed_image, 0, 1)\n",
    "#     return perturbed_image\n",
    "\n",
    "# def test_attack(model, test_loader, epsilon):\n",
    "#     for data, target in test_loader:\n",
    "#         data.requires_grad = True\n",
    "#         output = model(data)\n",
    "#         init_pred = output.max(1, keepdim=True)[1]\n",
    "\n",
    "#         loss = criterion(output, target)\n",
    "#         model.zero_grad()\n",
    "#         loss.backward()\n",
    "#         data_grad = data.grad.data\n",
    "#         perturbed_data = fgsm_attack(data, epsilon, data_grad)\n",
    "\n",
    "#         output = model(perturbed_data)\n",
    "#         final_pred = output.max(1, keepdim=True)[1]\n",
    "#         if final_pred.item() != target.item():\n",
    "#             return True  # Attack successful\n",
    "#     return False\n",
    "\n",
    "# epsilon = 0.01\n",
    "# success = test_attack(net, testloader, epsilon)\n",
    "# print(f\"Attack success: {success}\")\n",
    "\n",
    "\n",
    "\n",
    "\n",
    "\n"
   ]
  },
  {
   "cell_type": "code",
   "execution_count": null,
   "metadata": {},
   "outputs": [],
   "source": [
    "def rgb_noise_attack(image, epsilon):\n",
    "    \"\"\"\n",
    "    Add random noise in the range [-epsilon, epsilon) to each pixel's RGB value.\n",
    "    \"\"\"\n",
    "    noise = (2 * torch.rand(image.shape) - 1) * epsilon\n",
    "    perturbed_image = image + noise\n",
    "    perturbed_image = torch.clamp(perturbed_image, 0, 1)\n",
    "    return perturbed_image\n",
    "\n",
    "def test_rgb_attack(model, test_loader, epsilon):\n",
    "    for data, target in test_loader:\n",
    "        perturbed_data = rgb_noise_attack(data, epsilon)\n",
    "\n",
    "        output = model(perturbed_data)\n",
    "        final_pred = output.max(1, keepdim=True)[1]\n",
    "        for i in range(final_pred.size(0)):  # Iterate over each item in the batch\n",
    "            if final_pred[i].item() != target[i].item():\n",
    "                print(f\"Predicted {final_pred[i].item()}, actual {target[i].item()}\")\n",
    "                return True  # Attack successful\n",
    "    return False\n",
    "\n",
    "epsilon = 0.1  # You might want to adjust this value to see different effects\n",
    "success = test_rgb_attack(net, testloader, epsilon)\n",
    "print(f\"Attack success: {success}\")"
   ]
  }
 ],
 "metadata": {
  "kernelspec": {
   "display_name": "neural_networks",
   "language": "python",
   "name": "python3"
  },
  "language_info": {
   "codemirror_mode": {
    "name": "ipython",
    "version": 3
   },
   "file_extension": ".py",
   "mimetype": "text/x-python",
   "name": "python",
   "nbconvert_exporter": "python",
   "pygments_lexer": "ipython3",
   "version": "3.8.17"
  },
  "orig_nbformat": 4
 },
 "nbformat": 4,
 "nbformat_minor": 2
}
